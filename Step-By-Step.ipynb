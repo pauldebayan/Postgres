{
 "cells": [
  {
   "cell_type": "markdown",
   "metadata": {},
   "source": [
    "apt install postgresql"
   ]
  },
  {
   "cell_type": "markdown",
   "metadata": {},
   "source": [
    "![Challenges of Postgres](./images/ChallengesOfPostgres.png)"
   ]
  },
  {
   "cell_type": "markdown",
   "metadata": {},
   "source": [
    "Store list of largest cities: https://en.wikipedia.org/wiki/List_of_largest_cities  \n",
    "Focus only on 4 columns: City, Country, Population, Area"
   ]
  },
  {
   "cell_type": "markdown",
   "metadata": {},
   "source": [
    "![DatabaseDesignProcess](./images/DatabaseDesignProcess.png)"
   ]
  },
  {
   "cell_type": "markdown",
   "metadata": {},
   "source": [
    "$ sudo -u postgres psql"
   ]
  },
  {
   "cell_type": "markdown",
   "metadata": {},
   "source": [
    "Inside Postgres(#):  \n",
    "CREATE DATABASE db;  \n",
    "CREATE USER debayan WITH PASSWORD '12345';  \n",
    "exit"
   ]
  },
  {
   "cell_type": "markdown",
   "metadata": {},
   "source": [
    "$ psql -h localhost -p 5432 -U debayan db "
   ]
  },
  {
   "cell_type": "markdown",
   "metadata": {},
   "source": [
    "DataTypes in Postgres - https://www.postgresql.org/docs/current/datatype.html"
   ]
  },
  {
   "cell_type": "markdown",
   "metadata": {},
   "source": [
    "CREATE TABLE cities(  \n",
    "    name VARCHAR(50),  \n",
    "    country VARCHAR(50),  \n",
    "    population INTEGER,  \n",
    "    area INTEGER  \n",
    ");  "
   ]
  },
  {
   "cell_type": "markdown",
   "metadata": {},
   "source": [
    "DB: \\l  \n",
    "Connect to a DB: \\c db  \n",
    "Tables: \\d  \n",
    "SELECT * FROM cities;  "
   ]
  },
  {
   "cell_type": "markdown",
   "metadata": {},
   "source": [
    "### INSERT INTO TABLE\n",
    "\n",
    "INSERT INTO cities(name, country, population, area)  \n",
    "VALUES ('Tokyo', 'Japan', 38505000, 8223);  \n",
    "/* name, population, country, area - can be changed posution and we need to put the data accordingly in VALUES*/"
   ]
  },
  {
   "cell_type": "markdown",
   "metadata": {},
   "source": [
    "### Insert multiple rows in one go:  \n",
    "INSERT INTO cities(name, country, population, area)  \n",
    "VALUES \n",
    "    ('Delhi', 'India', 28125000, 2240),  \n",
    "    ('Shanghai', 'China', 22125000, 4015),  \n",
    "    ('Sao Paulo', 'Brazil', 20935000, 3043);   \n",
    "\n"
   ]
  },
  {
   "cell_type": "markdown",
   "metadata": {},
   "source": [
    "### SELECT\n",
    "\n",
    "SELECT * FROM cities;  \n",
    "SELECT name, country FROM cities;"
   ]
  },
  {
   "cell_type": "markdown",
   "metadata": {},
   "source": [
    "SQL is not just about pulling raw data out of a table. We can write SQL to transform or process data we receive it"
   ]
  },
  {
   "cell_type": "markdown",
   "metadata": {},
   "source": [
    "Population Density = Population / Area  "
   ]
  },
  {
   "cell_type": "markdown",
   "metadata": {},
   "source": [
    "SELECT name, population/area AS density  \n",
    "FROM cities; \n",
    "\n",
    "/* Other Math Operators: +, -, *, /, ^(exponent), |/(Square Root), @(Absolute Value), %(Remainder) */"
   ]
  },
  {
   "cell_type": "markdown",
   "metadata": {},
   "source": [
    "String Operators and Functions:  \n",
    "Join 2 strings: ||, CONCAT()  \n",
    "Gives a lower case string: LOWER()  \n",
    "Gives a upper case string: UPPER()  \n",
    "Gives number of characters in a string: LENGTH()    "
   ]
  },
  {
   "cell_type": "markdown",
   "metadata": {},
   "source": [
    "SELECT name || ', ' || country AS location  FROM cities;"
   ]
  },
  {
   "cell_type": "markdown",
   "metadata": {},
   "source": [
    "### Filtering\n",
    "\n",
    "SELECT name, area FROM cities WHERE area > 4000;  \n",
    "**Comparison Math Operators**: =(unlike == in most programming languages), >, <, >=, <=, IN, NOT IN, BETWEEN, !=, <>(Not Equal)"
   ]
  },
  {
   "cell_type": "markdown",
   "metadata": {},
   "source": [
    "BETWEEN 2000 and 4000"
   ]
  },
  {
   "cell_type": "markdown",
   "metadata": {},
   "source": [
    "WHERE name IN('Delhi', 'Shanghai')"
   ]
  },
  {
   "cell_type": "markdown",
   "metadata": {},
   "source": [
    "Compound Check:  \n",
    "area NOT IN(3043, 8223) AND name = 'Delhi';"
   ]
  },
  {
   "cell_type": "markdown",
   "metadata": {},
   "source": [
    "WHERE manufacturer IN('Apple', 'Samsung')  \n",
    "WHERE manufacturer = 'Apple' or manufacturer = 'Samsung'  "
   ]
  },
  {
   "cell_type": "markdown",
   "metadata": {},
   "source": [
    "### WHERE Clause for Calculations\n",
    "\n",
    "SELECT name, population/area AS population_density  \n",
    "FROM cities  \n",
    "WHERE population / area > 6000;"
   ]
  },
  {
   "cell_type": "markdown",
   "metadata": {},
   "source": [
    "SELECT name, price*units_sold AS total_revenue FROM phones WHERE price*units_sold > 1000000;\n",
    "\n",
    "/* We cannot refer total_revenue in the WHERE clause we need to recalculate price*units_sold */"
   ]
  },
  {
   "cell_type": "markdown",
   "metadata": {},
   "source": [
    "### UPDATING AND DELETING RECORDS"
   ]
  },
  {
   "cell_type": "markdown",
   "metadata": {},
   "source": [
    "UPDATE cities SET population = 39505000 WHERE name = 'Tokyo';"
   ]
  },
  {
   "cell_type": "markdown",
   "metadata": {},
   "source": [
    "DELETE FROM cities WHERE name = 'Tokyo';"
   ]
  },
  {
   "cell_type": "markdown",
   "metadata": {},
   "source": [
    "![PhotoSharingApp](./images/PhotoSharingApp.png)"
   ]
  },
  {
   "cell_type": "markdown",
   "metadata": {},
   "source": [
    "4 Different kinds of relationships:  \n",
    "1. One to Many Relationship: A user has many photos  \n",
    "2. many to One: A photo has one user  \n",
    "3. Many to Many  \n",
    "4. One to One  "
   ]
  },
  {
   "cell_type": "markdown",
   "metadata": {},
   "source": [
    "Primary Key, Foreign Key  \n",
    "![Primary_Foreign_Key](./images/PrimaryKey_ForeignKey.png)"
   ]
  },
  {
   "cell_type": "markdown",
   "metadata": {},
   "source": [
    "### The \"many\" side of the relationship gets the foreign key column"
   ]
  },
  {
   "cell_type": "markdown",
   "metadata": {},
   "source": [
    "foreign key notation - example: photo_id"
   ]
  },
  {
   "cell_type": "markdown",
   "metadata": {},
   "source": [
    "CREATE TABLE users(  \n",
    "    id SERIAL PRIMARY KEY,  \n",
    "    username VARCHAR(50)  \n",
    ");  "
   ]
  },
  {
   "cell_type": "markdown",
   "metadata": {},
   "source": [
    "CREATE TABLE photos(  \n",
    "    id SERIAL PRIMARY KEY,  \n",
    "    url VARCHAR(200),  \n",
    "    user_id INTEGER REFERENCES users(id)\n",
    ")  \n",
    "\n",
    "INSERT INTO photos(url, user_id)"
   ]
  },
  {
   "cell_type": "markdown",
   "metadata": {},
   "source": [
    "SELECT * FROM photos WHERE user_id = 4;"
   ]
  },
  {
   "cell_type": "markdown",
   "metadata": {},
   "source": [
    "![OnDelete](./images/OnDelete.png)"
   ]
  },
  {
   "cell_type": "markdown",
   "metadata": {},
   "source": [
    "### ON DELETE CASCADE"
   ]
  },
  {
   "cell_type": "markdown",
   "metadata": {},
   "source": [
    "CREATE TABLE photos(  \n",
    "    id SERIAL PRIMARY KEY,  \n",
    "    url VARCHAR(200),  \n",
    "    user_id INTEGER REFERENCES users(id) ON DELETE CASCADE\n",
    ")  \n",
    "whenever we delete a user from users table all the photos associated with the user id will be deleted automatically"
   ]
  },
  {
   "cell_type": "markdown",
   "metadata": {},
   "source": [
    "### Joins and Aggregation"
   ]
  },
  {
   "cell_type": "markdown",
   "metadata": {},
   "source": [
    "![Join_Aggregation](./images/JoinAggregation.png)"
   ]
  },
  {
   "cell_type": "markdown",
   "metadata": {},
   "source": [
    "comments: id, contents, user_id, photo_id  \n",
    "users: id, username  \n",
    "\n",
    "SELECT contents, username  \n",
    "FROM comments   \n",
    "JOIN users ON users.id = comments.user_id;\n",
    "\n",
    "\n",
    "We can flip comments and users  \n",
    "\n",
    "Join X and Y - FROM [X] JOIN [Y] - create new row and match the two rows of two tables by the statement ON users.id = comments.user_id;  "
   ]
  },
  {
   "cell_type": "markdown",
   "metadata": {},
   "source": [
    "![Join](./images/Join.png)"
   ]
  },
  {
   "cell_type": "markdown",
   "metadata": {},
   "source": [
    "Table order between 'FROM' and 'JOIN' frequently makes a difference  \n",
    "We must give context if column names collide  \n",
    "Tables can be renamed using the 'AS' keyword  \n",
    "There are a few kinds of joins!\n"
   ]
  },
  {
   "cell_type": "markdown",
   "metadata": {},
   "source": [
    "SELECT id FROM .. JOIN will not work if the resulting table contains two columns having the same name \"id\""
   ]
  },
  {
   "cell_type": "markdown",
   "metadata": {},
   "source": [
    "RENAME if needed if two columns have the same name in the output - Eg, SELECT users.id, comments.id  \n",
    "\n",
    "SELECT comments.id AS comments_id"
   ]
  },
  {
   "cell_type": "markdown",
   "metadata": {},
   "source": [
    "SELECT comments.id AS comment_id, p.id  \n",
    "FROM photos AS p  \n",
    "JOIN comments ON p.id = comments.photo_id  "
   ]
  },
  {
   "cell_type": "markdown",
   "metadata": {},
   "source": [
    "FROM photos - LEFT  \n",
    "[LEFT/RIGHT/FULL] JOIN comments - RIGHT  \n",
    "\n",
    "Four Types of Joins:  \n",
    "1. INNER JOIN: Intersection  \n",
    "2. LEFT OUTER JOIN: Intersection + All elements in the LEFT - FROM photos, Missing entries 'NULL'  \n",
    "3. RIGHT OUTER JOIN: Intersection + All elements in the RIGHT - FROM comments, Missing entries 'NULL'  \n",
    "4. Full Join: Take everything from LEFT(photos) + Intersection + Everything from RIGHT(comments), Missing entries 'NULL'"
   ]
  },
  {
   "cell_type": "markdown",
   "metadata": {},
   "source": [
    "### WHERE with JOIN\n",
    "\n",
    "FROM -> JOIN -> WHERE  \n",
    "\n",
    "SELECT url, contents  \n",
    "FROM comments  \n",
    "JOIN photos ON photos.id = comments.photo_id  \n",
    "WHERE comments.user_id = photos.user_id;  "
   ]
  },
  {
   "cell_type": "markdown",
   "metadata": {},
   "source": [
    "We can add multiple JOINs:\n",
    "\n",
    "SELECT url, contents, username  \n",
    "FROM comments  \n",
    "JOIN photos ON photos.id = comments.photo_id  \n",
    "JOIN users ON users.id = comments.users_id AND users.id = photos.user_id  "
   ]
  },
  {
   "cell_type": "markdown",
   "metadata": {},
   "source": [
    "### Aggregating and Grouping \n",
    "\n",
    "![Aggregating_Grouping](./images/%20AggregatingGrouping.png)"
   ]
  },
  {
   "cell_type": "markdown",
   "metadata": {},
   "source": [
    "### GROUP BY\n",
    "\n",
    "Find unique values - group by - will create a IMAGINARY column - \"GROUPED BY user_id\"  \n",
    "Multiple block of rows - grouped by user_id  \n",
    "WE CANNOT select OTHER COLUMNS here - We can only select the GROUP BY column or by using aggregate function\n",
    "\n",
    "\n",
    "![GROUP_BY](./images/GROUP_BY.png)"
   ]
  },
  {
   "cell_type": "markdown",
   "metadata": {},
   "source": [
    "Aggregate Functions:  \n",
    "\n",
    "COUNT(), SUM(), AVG(), MIN(), MAX()"
   ]
  },
  {
   "cell_type": "markdown",
   "metadata": {},
   "source": [
    "SELECT MAX(id) FROM comments;  \n",
    "SELECT MAX(id), id FROM comments; - We cannot use aggregate and column name at the same time without using GROUP BY\n",
    "\n",
    "![Aggregate_GROUP_BY](./images/Aggregate_GROUP.png)"
   ]
  },
  {
   "cell_type": "markdown",
   "metadata": {},
   "source": [
    "SELECT user_id, COUNT(id) AS num_comments_created  \n",
    "FROM comments  \n",
    "GROUP BY user_id;"
   ]
  },
  {
   "cell_type": "markdown",
   "metadata": {},
   "source": [
    "SELECT COUNT(user_id) FROM photos; // NULL values will not be counted- use \"*\" will also count NULL values"
   ]
  },
  {
   "cell_type": "markdown",
   "metadata": {},
   "source": [
    "FROM > JOIN > WHERE > GROUP BY > HAVING"
   ]
  },
  {
   "cell_type": "markdown",
   "metadata": {},
   "source": [
    "HAVING: Filter the set of groups, HAVING should always have a GROUP BY"
   ]
  },
  {
   "cell_type": "markdown",
   "metadata": {},
   "source": [
    "SELECT photo_id, COUNT(*)  \n",
    "FROM comments  \n",
    "WHERE photo_id < 3  \n",
    "GROUP BY photo_id  \n",
    "HAVING COUNT(*) > 2;"
   ]
  },
  {
   "cell_type": "markdown",
   "metadata": {},
   "source": [
    "Indexing - chatGPT"
   ]
  },
  {
   "cell_type": "markdown",
   "metadata": {},
   "source": []
  }
 ],
 "metadata": {
  "kernelspec": {
   "display_name": "Python 3",
   "language": "python",
   "name": "python3"
  },
  "language_info": {
   "codemirror_mode": {
    "name": "ipython",
    "version": 3
   },
   "file_extension": ".py",
   "mimetype": "text/x-python",
   "name": "python",
   "nbconvert_exporter": "python",
   "pygments_lexer": "ipython3",
   "version": "3.8.10"
  }
 },
 "nbformat": 4,
 "nbformat_minor": 2
}
