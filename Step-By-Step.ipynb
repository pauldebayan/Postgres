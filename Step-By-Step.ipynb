{
 "cells": [
  {
   "cell_type": "markdown",
   "metadata": {},
   "source": [
    "apt install postgresql"
   ]
  },
  {
   "cell_type": "markdown",
   "metadata": {},
   "source": [
    "![Challenges of Postgres](./images/ChallengesOfPostgres.png)"
   ]
  },
  {
   "cell_type": "markdown",
   "metadata": {},
   "source": [
    "Store list of largest cities: https://en.wikipedia.org/wiki/List_of_largest_cities  \n",
    "Focus only on 4 columns: City, Country, Population, Area"
   ]
  },
  {
   "cell_type": "markdown",
   "metadata": {},
   "source": [
    "![DatabaseDesignProcess](./images/DatabaseDesignProcess.png)"
   ]
  },
  {
   "cell_type": "markdown",
   "metadata": {},
   "source": [
    "$ sudo -u postgres psql"
   ]
  },
  {
   "cell_type": "markdown",
   "metadata": {},
   "source": [
    "Inside Postgres(#):  \n",
    "CREATE DATABASE db;  \n",
    "CREATE USER debayan WITH PASSWORD '12345';  \n",
    "exit"
   ]
  },
  {
   "cell_type": "markdown",
   "metadata": {},
   "source": [
    "$ psql -h localhost -p 5432 -U debayan db "
   ]
  },
  {
   "cell_type": "markdown",
   "metadata": {},
   "source": [
    "DataTypes in Postgres - https://www.postgresql.org/docs/current/datatype.html"
   ]
  },
  {
   "cell_type": "markdown",
   "metadata": {},
   "source": [
    "CREATE TABLE cities(  \n",
    "    name VARCHAR(50),  \n",
    "    country VARCHAR(50),  \n",
    "    population INTEGER,  \n",
    "    area INTEGER  \n",
    ");  "
   ]
  },
  {
   "cell_type": "markdown",
   "metadata": {},
   "source": [
    "DB: \\l  \n",
    "Connect to a DB: \\c db  \n",
    "Tables: \\d  \n",
    "SELECT * FROM cities;  "
   ]
  },
  {
   "cell_type": "markdown",
   "metadata": {},
   "source": [
    "### INSERT INTO TABLE\n",
    "\n",
    "INSERT INTO cities(name, country, population, area)  \n",
    "VALUES ('Tokyo', 'Japan', 38505000, 8223);  \n",
    "/* name, population, country, area - can be changed posution and we need to put the data accordingly in VALUES*/"
   ]
  },
  {
   "cell_type": "markdown",
   "metadata": {},
   "source": [
    "### Insert multiple rows in one go:  \n",
    "INSERT INTO cities(name, country, population, area)  \n",
    "VALUES \n",
    "    ('Delhi', 'India', 28125000, 2240),  \n",
    "    ('Shanghai', 'China', 22125000, 4015),  \n",
    "    ('Sao Paulo', 'Brazil', 20935000, 3043);   \n",
    "\n"
   ]
  },
  {
   "cell_type": "markdown",
   "metadata": {},
   "source": []
  }
 ],
 "metadata": {
  "kernelspec": {
   "display_name": "Python 3",
   "language": "python",
   "name": "python3"
  },
  "language_info": {
   "codemirror_mode": {
    "name": "ipython",
    "version": 3
   },
   "file_extension": ".py",
   "mimetype": "text/x-python",
   "name": "python",
   "nbconvert_exporter": "python",
   "pygments_lexer": "ipython3",
   "version": "3.8.10"
  }
 },
 "nbformat": 4,
 "nbformat_minor": 2
}
